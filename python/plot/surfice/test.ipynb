{
 "cells": [
  {
   "cell_type": "code",
   "execution_count": 5,
   "metadata": {},
   "outputs": [
    {
     "data": {
      "text/plain": [
       "0"
      ]
     },
     "execution_count": 5,
     "metadata": {},
     "output_type": "execute_result"
    }
   ],
   "source": [
    "cmd_str = r'D:\\User\\Desktop\\surfice_windows\\Surf_Ice\\surfice.exe ' +r'D:\\User\\Desktop\\surfice_windows\\Surf_Ice\\Resources\\script\\scalp.py'\n",
    "\n",
    "import os\n",
    "\n",
    "os.system(cmd_str)\n",
    "\n"
   ]
  },
  {
   "cell_type": "code",
   "execution_count": 19,
   "metadata": {},
   "outputs": [],
   "source": [
    "import pathlib\n",
    "\n",
    "class plotSurfIce:\n",
    "    def __init__(self, inputPath, outputPath) -> None:\n",
    "        self.inputPath = r'F:\\Code\\coupling\\data\\surfIce\\temp\\nii'\n",
    "        self.outputfig = r'F:\\Code\\coupling\\data\\surfIce\\temp\\output'\n",
    "        self.pathSurfEXE = r'D:\\User\\Desktop\\surfice_windows\\Surf_Ice\\surfice.exe '\n",
    "        self.scriptTEMP = r'F:\\Code\\coupling\\data\\surfIce\\temp\\script'\n",
    "\n",
    "        self.pathsurf = r'F:\\Code\\coupling\\data\\surfIce\\temp\\surf'\n",
    "\n",
    "    def defaultScript(self):\n",
    "        self.ScriptCode = [\"import gl\",\n",
    "                           \"gl.resetdefaults()\",\n",
    "                           \"gl.meshload('BrainMesh_ICBM152.mz3')\",\n",
    "                           \"\",\n",
    "                           \"\",\n",
    "                           \"\",\n",
    "\n",
    "                           ]\n",
    "        \n",
    "    def loadScript(self, scriptPath):\n",
    "        f=open(scriptPath, encoding='gbk')\n",
    "        self.codes = f.readlines()\n",
    "        print(self.codes)\n",
    "\n",
    "    def run(self):\n",
    "        self.changePath()\n",
    "\n",
    "    def runCode(self):\n",
    "        fileName = pathlib.Path(self.scriptTEMP) / (self.tempName + '.py')\n",
    "        \n",
    "        with open(fileName,\"w\") as f:\n",
    "            f.writelines(self.codeTemp)\n",
    "                                                    \n",
    "        \n",
    "\n",
    "\n",
    "\n",
    "        \n",
    "    def changePath(self):\n",
    "        codes = self.codes\n",
    "        P_input = pathlib.Path(self.inputPath)\n",
    "        P_surf = pathlib.Path(self.pathsurf)\n",
    "        \n",
    "        for i in range(len(codes)):\n",
    "            if codes[i].find('overlayload'):\n",
    "                for file_name in P_input.glob('*.nii*'):\n",
    "                    codes[i] = \"gl.overlayload(r'\" + str(file_name) + \"')\"\n",
    "\n",
    "                    for j in range(len(codes)):\n",
    "                        if codes[j].find('gl.azimuthelevation'):\n",
    "                            for angle in [90,270]:\n",
    "                                codes[j] = \"gl.azimuthelevation(\" + str(angle) + \")\"\n",
    "\n",
    "                                for k in range(len(codes)):\n",
    "                                    if codes[k].find('meshload'):\n",
    "                                        for surf_name in P_surf.glob('*.mz3'):\n",
    "                                            codes[i] = \"gl.meshload(r'\" + str(surf_name) + \"')\"\n",
    "                                            \n",
    "                                            for l in range(len(codes)):\n",
    "                                                if codes[l].find('savebmp'):\n",
    "                                                    savefigPath = pathlib.Path(self.outputfig) / (str(surf_name.stem) + str(file_name.stem)+ str(angle)+'.png')\n",
    "                                                    \n",
    "                                                    codes[l] = \"gl.savebmp(r'\" + str(savefigPath) + \"')\"\n",
    "                                                    self.codeTemp = codes\n",
    "                                                    self.tempName = (str(surf_name.stem) + str(file_name.stem)+ str(angle))\n",
    "\n",
    "                                                    self.runCode()\n",
    "\n",
    "                                            \n",
    "\n",
    "\n"
   ]
  },
  {
   "cell_type": "code",
   "execution_count": 20,
   "metadata": {},
   "outputs": [
    {
     "name": "stdout",
     "output_type": "stream",
     "text": [
      "['import gl\\n', 'gl.resetdefaults()\\n', \"gl.meshload('BrainMesh_ICBM152.rh.mz3')\\n\", 'gl.meshcurv()\\n', 'gl.overlayminmax(1,-1,1)\\n', \"gl.overlaycolorname(1,'surface')\\n\", 'gl.overlayinvert(1,1)\\n', \"gl.overlayload('motor_4t95vol.nii.gz')\\n\", \"gl.overlaycolorname(2,'kelvin')\\n\", 'gl.overlayminmax(2,2,7)\\n', \"gl.overlayload('scalp.mz3')\\n\", \"gl.overlaycolorname(3,'gold')\\n\", '#gl.shaderxray(1.0, 0.9)\\n', 'gl.meshoverlayorder(1)\\n', 'gl.colorbarvisible(0)\\n', 'gl.shaderambientocclusion(0.05)\\n', 'gl.azimuthelevation(90, 15)\\n', 'gl.clipazimuthelevation(0.5, 0, 100)\\n']\n"
     ]
    },
    {
     "ename": "KeyboardInterrupt",
     "evalue": "",
     "output_type": "error",
     "traceback": [
      "\u001b[1;31m---------------------------------------------------------------------------\u001b[0m",
      "\u001b[1;31mKeyboardInterrupt\u001b[0m                         Traceback (most recent call last)",
      "Cell \u001b[1;32mIn[20], line 3\u001b[0m\n\u001b[0;32m      1\u001b[0m a \u001b[39m=\u001b[39m plotSurfIce(\u001b[39m'\u001b[39m\u001b[39m'\u001b[39m,\u001b[39m'\u001b[39m\u001b[39m'\u001b[39m)\n\u001b[0;32m      2\u001b[0m a\u001b[39m.\u001b[39mloadScript(\u001b[39mr\u001b[39m\u001b[39m'\u001b[39m\u001b[39mD:\u001b[39m\u001b[39m\\\u001b[39m\u001b[39mUser\u001b[39m\u001b[39m\\\u001b[39m\u001b[39mDesktop\u001b[39m\u001b[39m\\\u001b[39m\u001b[39msurfice_windows\u001b[39m\u001b[39m\\\u001b[39m\u001b[39mSurf_Ice\u001b[39m\u001b[39m\\\u001b[39m\u001b[39mResources\u001b[39m\u001b[39m\\\u001b[39m\u001b[39mscript\u001b[39m\u001b[39m\\\u001b[39m\u001b[39mscalp.py\u001b[39m\u001b[39m'\u001b[39m)\n\u001b[1;32m----> 3\u001b[0m a\u001b[39m.\u001b[39;49mrun()\n",
      "Cell \u001b[1;32mIn[19], line 28\u001b[0m, in \u001b[0;36mplotSurfIce.run\u001b[1;34m(self)\u001b[0m\n\u001b[0;32m     27\u001b[0m \u001b[39mdef\u001b[39;00m \u001b[39mrun\u001b[39m(\u001b[39mself\u001b[39m):\n\u001b[1;32m---> 28\u001b[0m     \u001b[39mself\u001b[39;49m\u001b[39m.\u001b[39;49mchangePath()\n",
      "Cell \u001b[1;32mIn[19], line 69\u001b[0m, in \u001b[0;36mplotSurfIce.changePath\u001b[1;34m(self)\u001b[0m\n\u001b[0;32m     66\u001b[0m \u001b[39mself\u001b[39m\u001b[39m.\u001b[39mcodeTemp \u001b[39m=\u001b[39m codes\n\u001b[0;32m     67\u001b[0m \u001b[39mself\u001b[39m\u001b[39m.\u001b[39mtempName \u001b[39m=\u001b[39m (\u001b[39mstr\u001b[39m(surf_name\u001b[39m.\u001b[39mstem) \u001b[39m+\u001b[39m \u001b[39mstr\u001b[39m(file_name\u001b[39m.\u001b[39mstem)\u001b[39m+\u001b[39m \u001b[39mstr\u001b[39m(angle))\n\u001b[1;32m---> 69\u001b[0m \u001b[39mself\u001b[39;49m\u001b[39m.\u001b[39;49mrunCode()\n",
      "Cell \u001b[1;32mIn[19], line 33\u001b[0m, in \u001b[0;36mplotSurfIce.runCode\u001b[1;34m(self)\u001b[0m\n\u001b[0;32m     30\u001b[0m \u001b[39mdef\u001b[39;00m \u001b[39mrunCode\u001b[39m(\u001b[39mself\u001b[39m):\n\u001b[0;32m     31\u001b[0m     fileName \u001b[39m=\u001b[39m pathlib\u001b[39m.\u001b[39mPath(\u001b[39mself\u001b[39m\u001b[39m.\u001b[39mscriptTEMP) \u001b[39m/\u001b[39m (\u001b[39mself\u001b[39m\u001b[39m.\u001b[39mtempName \u001b[39m+\u001b[39m \u001b[39m'\u001b[39m\u001b[39m.py\u001b[39m\u001b[39m'\u001b[39m)\n\u001b[1;32m---> 33\u001b[0m     \u001b[39mwith\u001b[39;00m \u001b[39mopen\u001b[39;49m(fileName,\u001b[39m\"\u001b[39;49m\u001b[39mw\u001b[39;49m\u001b[39m\"\u001b[39;49m) \u001b[39mas\u001b[39;00m f:\n\u001b[0;32m     34\u001b[0m         f\u001b[39m.\u001b[39mwritelines(\u001b[39mself\u001b[39m\u001b[39m.\u001b[39mcodeTemp)\n",
      "File \u001b[1;32md:\\APP\\Anaconda3\\envs\\coupling\\lib\\site-packages\\IPython\\core\\interactiveshell.py:282\u001b[0m, in \u001b[0;36m_modified_open\u001b[1;34m(file, *args, **kwargs)\u001b[0m\n\u001b[0;32m    275\u001b[0m \u001b[39mif\u001b[39;00m file \u001b[39min\u001b[39;00m {\u001b[39m0\u001b[39m, \u001b[39m1\u001b[39m, \u001b[39m2\u001b[39m}:\n\u001b[0;32m    276\u001b[0m     \u001b[39mraise\u001b[39;00m \u001b[39mValueError\u001b[39;00m(\n\u001b[0;32m    277\u001b[0m         \u001b[39mf\u001b[39m\u001b[39m\"\u001b[39m\u001b[39mIPython won\u001b[39m\u001b[39m'\u001b[39m\u001b[39mt let you open fd=\u001b[39m\u001b[39m{\u001b[39;00mfile\u001b[39m}\u001b[39;00m\u001b[39m by default \u001b[39m\u001b[39m\"\u001b[39m\n\u001b[0;32m    278\u001b[0m         \u001b[39m\"\u001b[39m\u001b[39mas it is likely to crash IPython. If you know what you are doing, \u001b[39m\u001b[39m\"\u001b[39m\n\u001b[0;32m    279\u001b[0m         \u001b[39m\"\u001b[39m\u001b[39myou can use builtins\u001b[39m\u001b[39m'\u001b[39m\u001b[39m open.\u001b[39m\u001b[39m\"\u001b[39m\n\u001b[0;32m    280\u001b[0m     )\n\u001b[1;32m--> 282\u001b[0m \u001b[39mreturn\u001b[39;00m io_open(file, \u001b[39m*\u001b[39;49margs, \u001b[39m*\u001b[39;49m\u001b[39m*\u001b[39;49mkwargs)\n",
      "File \u001b[1;32md:\\APP\\Anaconda3\\envs\\coupling\\lib\\_bootlocale.py:11\u001b[0m, in \u001b[0;36mgetpreferredencoding\u001b[1;34m(do_setlocale)\u001b[0m\n\u001b[0;32m      8\u001b[0m \u001b[39mimport\u001b[39;00m \u001b[39m_locale\u001b[39;00m\n\u001b[0;32m     10\u001b[0m \u001b[39mif\u001b[39;00m sys\u001b[39m.\u001b[39mplatform\u001b[39m.\u001b[39mstartswith(\u001b[39m\"\u001b[39m\u001b[39mwin\u001b[39m\u001b[39m\"\u001b[39m):\n\u001b[1;32m---> 11\u001b[0m     \u001b[39mdef\u001b[39;00m \u001b[39mgetpreferredencoding\u001b[39m(do_setlocale\u001b[39m=\u001b[39m\u001b[39mTrue\u001b[39;00m):\n\u001b[0;32m     12\u001b[0m         \u001b[39mif\u001b[39;00m sys\u001b[39m.\u001b[39mflags\u001b[39m.\u001b[39mutf8_mode:\n\u001b[0;32m     13\u001b[0m             \u001b[39mreturn\u001b[39;00m \u001b[39m'\u001b[39m\u001b[39mUTF-8\u001b[39m\u001b[39m'\u001b[39m\n",
      "\u001b[1;31mKeyboardInterrupt\u001b[0m: "
     ]
    }
   ],
   "source": [
    "a = plotSurfIce('','')\n",
    "a.loadScript(r'D:\\User\\Desktop\\surfice_windows\\Surf_Ice\\Resources\\script\\scalp.py')\n",
    "a.run()\n"
   ]
  }
 ],
 "metadata": {
  "kernelspec": {
   "display_name": "coupling",
   "language": "python",
   "name": "python3"
  },
  "language_info": {
   "codemirror_mode": {
    "name": "ipython",
    "version": 3
   },
   "file_extension": ".py",
   "mimetype": "text/x-python",
   "name": "python",
   "nbconvert_exporter": "python",
   "pygments_lexer": "ipython3",
   "version": "3.8.0"
  },
  "orig_nbformat": 4
 },
 "nbformat": 4,
 "nbformat_minor": 2
}
