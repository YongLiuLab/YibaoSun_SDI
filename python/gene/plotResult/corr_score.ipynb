{
 "cells": [
  {
   "cell_type": "code",
   "execution_count": 12,
   "metadata": {},
   "outputs": [],
   "source": [
    "from string import ascii_letters\n",
    "import numpy as np\n",
    "import pandas as pd\n",
    "import seaborn as sns\n",
    "import matplotlib.pyplot as plt\n",
    "from scipy.stats import pearsonr\n",
    "from matplotlib.pyplot import MultipleLocator"
   ]
  },
  {
   "cell_type": "code",
   "execution_count": 13,
   "metadata": {},
   "outputs": [
    {
     "ename": "FileNotFoundError",
     "evalue": "[Errno 2] No such file or directory: '/home/syb/Code/coupling/python/file/gene/246_ROI/SDI_NC/geneexpression_xscore_0.csv'",
     "output_type": "error",
     "traceback": [
      "\u001b[1;31m---------------------------------------------------------------------------\u001b[0m",
      "\u001b[1;31mFileNotFoundError\u001b[0m                         Traceback (most recent call last)",
      "\u001b[1;32mf:\\Code\\coupling\\python\\utils\\Gene\\plotResult\\corr_score.ipynb Cell 2\u001b[0m line \u001b[0;36m3\n\u001b[0;32m      <a href='vscode-notebook-cell:/f%3A/Code/coupling/python/utils/Gene/plotResult/corr_score.ipynb#W1sZmlsZQ%3D%3D?line=0'>1</a>\u001b[0m \u001b[39m#读取svg_NC_SDI 和score值\u001b[39;00m\n\u001b[1;32m----> <a href='vscode-notebook-cell:/f%3A/Code/coupling/python/utils/Gene/plotResult/corr_score.ipynb#W1sZmlsZQ%3D%3D?line=2'>3</a>\u001b[0m df_score0 \u001b[39m=\u001b[39m pd\u001b[39m.\u001b[39;49mread_csv(\u001b[39m'\u001b[39;49m\u001b[39m/home/syb/Code/coupling/python/file/gene/246_ROI/SDI_NC/geneexpression_xscore_0.csv\u001b[39;49m\u001b[39m'\u001b[39;49m,index_col\u001b[39m=\u001b[39;49m \u001b[39m0\u001b[39;49m,header \u001b[39m=\u001b[39;49m \u001b[39m0\u001b[39;49m) \n\u001b[0;32m      <a href='vscode-notebook-cell:/f%3A/Code/coupling/python/utils/Gene/plotResult/corr_score.ipynb#W1sZmlsZQ%3D%3D?line=3'>4</a>\u001b[0m df_score1 \u001b[39m=\u001b[39m pd\u001b[39m.\u001b[39mread_csv(\u001b[39m'\u001b[39m\u001b[39m/home/syb/Code/coupling/python/file/gene/246_ROI/SDI_NC/geneexpression_xscore_1.csv\u001b[39m\u001b[39m'\u001b[39m,index_col\u001b[39m=\u001b[39m \u001b[39m0\u001b[39m,header \u001b[39m=\u001b[39m \u001b[39m0\u001b[39m) \n\u001b[0;32m      <a href='vscode-notebook-cell:/f%3A/Code/coupling/python/utils/Gene/plotResult/corr_score.ipynb#W1sZmlsZQ%3D%3D?line=4'>5</a>\u001b[0m df_score2 \u001b[39m=\u001b[39m pd\u001b[39m.\u001b[39mread_csv(\u001b[39m'\u001b[39m\u001b[39m/home/syb/Code/coupling/python/file/gene/246_ROI/SDI_NC/geneexpression_xscore_2.csv\u001b[39m\u001b[39m'\u001b[39m,index_col\u001b[39m=\u001b[39m \u001b[39m0\u001b[39m,header \u001b[39m=\u001b[39m \u001b[39m0\u001b[39m) \n",
      "File \u001b[1;32md:\\APP\\Anaconda3\\envs\\coupling\\lib\\site-packages\\pandas\\util\\_decorators.py:211\u001b[0m, in \u001b[0;36mdeprecate_kwarg.<locals>._deprecate_kwarg.<locals>.wrapper\u001b[1;34m(*args, **kwargs)\u001b[0m\n\u001b[0;32m    209\u001b[0m     \u001b[39melse\u001b[39;00m:\n\u001b[0;32m    210\u001b[0m         kwargs[new_arg_name] \u001b[39m=\u001b[39m new_arg_value\n\u001b[1;32m--> 211\u001b[0m \u001b[39mreturn\u001b[39;00m func(\u001b[39m*\u001b[39;49margs, \u001b[39m*\u001b[39;49m\u001b[39m*\u001b[39;49mkwargs)\n",
      "File \u001b[1;32md:\\APP\\Anaconda3\\envs\\coupling\\lib\\site-packages\\pandas\\util\\_decorators.py:317\u001b[0m, in \u001b[0;36mdeprecate_nonkeyword_arguments.<locals>.decorate.<locals>.wrapper\u001b[1;34m(*args, **kwargs)\u001b[0m\n\u001b[0;32m    311\u001b[0m \u001b[39mif\u001b[39;00m \u001b[39mlen\u001b[39m(args) \u001b[39m>\u001b[39m num_allow_args:\n\u001b[0;32m    312\u001b[0m     warnings\u001b[39m.\u001b[39mwarn(\n\u001b[0;32m    313\u001b[0m         msg\u001b[39m.\u001b[39mformat(arguments\u001b[39m=\u001b[39marguments),\n\u001b[0;32m    314\u001b[0m         \u001b[39mFutureWarning\u001b[39;00m,\n\u001b[0;32m    315\u001b[0m         stacklevel\u001b[39m=\u001b[39mfind_stack_level(inspect\u001b[39m.\u001b[39mcurrentframe()),\n\u001b[0;32m    316\u001b[0m     )\n\u001b[1;32m--> 317\u001b[0m \u001b[39mreturn\u001b[39;00m func(\u001b[39m*\u001b[39;49margs, \u001b[39m*\u001b[39;49m\u001b[39m*\u001b[39;49mkwargs)\n",
      "File \u001b[1;32md:\\APP\\Anaconda3\\envs\\coupling\\lib\\site-packages\\pandas\\io\\parsers\\readers.py:950\u001b[0m, in \u001b[0;36mread_csv\u001b[1;34m(filepath_or_buffer, sep, delimiter, header, names, index_col, usecols, squeeze, prefix, mangle_dupe_cols, dtype, engine, converters, true_values, false_values, skipinitialspace, skiprows, skipfooter, nrows, na_values, keep_default_na, na_filter, verbose, skip_blank_lines, parse_dates, infer_datetime_format, keep_date_col, date_parser, dayfirst, cache_dates, iterator, chunksize, compression, thousands, decimal, lineterminator, quotechar, quoting, doublequote, escapechar, comment, encoding, encoding_errors, dialect, error_bad_lines, warn_bad_lines, on_bad_lines, delim_whitespace, low_memory, memory_map, float_precision, storage_options)\u001b[0m\n\u001b[0;32m    935\u001b[0m kwds_defaults \u001b[39m=\u001b[39m _refine_defaults_read(\n\u001b[0;32m    936\u001b[0m     dialect,\n\u001b[0;32m    937\u001b[0m     delimiter,\n\u001b[1;32m   (...)\u001b[0m\n\u001b[0;32m    946\u001b[0m     defaults\u001b[39m=\u001b[39m{\u001b[39m\"\u001b[39m\u001b[39mdelimiter\u001b[39m\u001b[39m\"\u001b[39m: \u001b[39m\"\u001b[39m\u001b[39m,\u001b[39m\u001b[39m\"\u001b[39m},\n\u001b[0;32m    947\u001b[0m )\n\u001b[0;32m    948\u001b[0m kwds\u001b[39m.\u001b[39mupdate(kwds_defaults)\n\u001b[1;32m--> 950\u001b[0m \u001b[39mreturn\u001b[39;00m _read(filepath_or_buffer, kwds)\n",
      "File \u001b[1;32md:\\APP\\Anaconda3\\envs\\coupling\\lib\\site-packages\\pandas\\io\\parsers\\readers.py:605\u001b[0m, in \u001b[0;36m_read\u001b[1;34m(filepath_or_buffer, kwds)\u001b[0m\n\u001b[0;32m    602\u001b[0m _validate_names(kwds\u001b[39m.\u001b[39mget(\u001b[39m\"\u001b[39m\u001b[39mnames\u001b[39m\u001b[39m\"\u001b[39m, \u001b[39mNone\u001b[39;00m))\n\u001b[0;32m    604\u001b[0m \u001b[39m# Create the parser.\u001b[39;00m\n\u001b[1;32m--> 605\u001b[0m parser \u001b[39m=\u001b[39m TextFileReader(filepath_or_buffer, \u001b[39m*\u001b[39;49m\u001b[39m*\u001b[39;49mkwds)\n\u001b[0;32m    607\u001b[0m \u001b[39mif\u001b[39;00m chunksize \u001b[39mor\u001b[39;00m iterator:\n\u001b[0;32m    608\u001b[0m     \u001b[39mreturn\u001b[39;00m parser\n",
      "File \u001b[1;32md:\\APP\\Anaconda3\\envs\\coupling\\lib\\site-packages\\pandas\\io\\parsers\\readers.py:1442\u001b[0m, in \u001b[0;36mTextFileReader.__init__\u001b[1;34m(self, f, engine, **kwds)\u001b[0m\n\u001b[0;32m   1439\u001b[0m     \u001b[39mself\u001b[39m\u001b[39m.\u001b[39moptions[\u001b[39m\"\u001b[39m\u001b[39mhas_index_names\u001b[39m\u001b[39m\"\u001b[39m] \u001b[39m=\u001b[39m kwds[\u001b[39m\"\u001b[39m\u001b[39mhas_index_names\u001b[39m\u001b[39m\"\u001b[39m]\n\u001b[0;32m   1441\u001b[0m \u001b[39mself\u001b[39m\u001b[39m.\u001b[39mhandles: IOHandles \u001b[39m|\u001b[39m \u001b[39mNone\u001b[39;00m \u001b[39m=\u001b[39m \u001b[39mNone\u001b[39;00m\n\u001b[1;32m-> 1442\u001b[0m \u001b[39mself\u001b[39m\u001b[39m.\u001b[39m_engine \u001b[39m=\u001b[39m \u001b[39mself\u001b[39;49m\u001b[39m.\u001b[39;49m_make_engine(f, \u001b[39mself\u001b[39;49m\u001b[39m.\u001b[39;49mengine)\n",
      "File \u001b[1;32md:\\APP\\Anaconda3\\envs\\coupling\\lib\\site-packages\\pandas\\io\\parsers\\readers.py:1729\u001b[0m, in \u001b[0;36mTextFileReader._make_engine\u001b[1;34m(self, f, engine)\u001b[0m\n\u001b[0;32m   1727\u001b[0m     is_text \u001b[39m=\u001b[39m \u001b[39mFalse\u001b[39;00m\n\u001b[0;32m   1728\u001b[0m     mode \u001b[39m=\u001b[39m \u001b[39m\"\u001b[39m\u001b[39mrb\u001b[39m\u001b[39m\"\u001b[39m\n\u001b[1;32m-> 1729\u001b[0m \u001b[39mself\u001b[39m\u001b[39m.\u001b[39mhandles \u001b[39m=\u001b[39m get_handle(\n\u001b[0;32m   1730\u001b[0m     f,\n\u001b[0;32m   1731\u001b[0m     mode,\n\u001b[0;32m   1732\u001b[0m     encoding\u001b[39m=\u001b[39;49m\u001b[39mself\u001b[39;49m\u001b[39m.\u001b[39;49moptions\u001b[39m.\u001b[39;49mget(\u001b[39m\"\u001b[39;49m\u001b[39mencoding\u001b[39;49m\u001b[39m\"\u001b[39;49m, \u001b[39mNone\u001b[39;49;00m),\n\u001b[0;32m   1733\u001b[0m     compression\u001b[39m=\u001b[39;49m\u001b[39mself\u001b[39;49m\u001b[39m.\u001b[39;49moptions\u001b[39m.\u001b[39;49mget(\u001b[39m\"\u001b[39;49m\u001b[39mcompression\u001b[39;49m\u001b[39m\"\u001b[39;49m, \u001b[39mNone\u001b[39;49;00m),\n\u001b[0;32m   1734\u001b[0m     memory_map\u001b[39m=\u001b[39;49m\u001b[39mself\u001b[39;49m\u001b[39m.\u001b[39;49moptions\u001b[39m.\u001b[39;49mget(\u001b[39m\"\u001b[39;49m\u001b[39mmemory_map\u001b[39;49m\u001b[39m\"\u001b[39;49m, \u001b[39mFalse\u001b[39;49;00m),\n\u001b[0;32m   1735\u001b[0m     is_text\u001b[39m=\u001b[39;49mis_text,\n\u001b[0;32m   1736\u001b[0m     errors\u001b[39m=\u001b[39;49m\u001b[39mself\u001b[39;49m\u001b[39m.\u001b[39;49moptions\u001b[39m.\u001b[39;49mget(\u001b[39m\"\u001b[39;49m\u001b[39mencoding_errors\u001b[39;49m\u001b[39m\"\u001b[39;49m, \u001b[39m\"\u001b[39;49m\u001b[39mstrict\u001b[39;49m\u001b[39m\"\u001b[39;49m),\n\u001b[0;32m   1737\u001b[0m     storage_options\u001b[39m=\u001b[39;49m\u001b[39mself\u001b[39;49m\u001b[39m.\u001b[39;49moptions\u001b[39m.\u001b[39;49mget(\u001b[39m\"\u001b[39;49m\u001b[39mstorage_options\u001b[39;49m\u001b[39m\"\u001b[39;49m, \u001b[39mNone\u001b[39;49;00m),\n\u001b[0;32m   1738\u001b[0m )\n\u001b[0;32m   1739\u001b[0m \u001b[39massert\u001b[39;00m \u001b[39mself\u001b[39m\u001b[39m.\u001b[39mhandles \u001b[39mis\u001b[39;00m \u001b[39mnot\u001b[39;00m \u001b[39mNone\u001b[39;00m\n\u001b[0;32m   1740\u001b[0m f \u001b[39m=\u001b[39m \u001b[39mself\u001b[39m\u001b[39m.\u001b[39mhandles\u001b[39m.\u001b[39mhandle\n",
      "File \u001b[1;32md:\\APP\\Anaconda3\\envs\\coupling\\lib\\site-packages\\pandas\\io\\common.py:857\u001b[0m, in \u001b[0;36mget_handle\u001b[1;34m(path_or_buf, mode, encoding, compression, memory_map, is_text, errors, storage_options)\u001b[0m\n\u001b[0;32m    852\u001b[0m \u001b[39melif\u001b[39;00m \u001b[39misinstance\u001b[39m(handle, \u001b[39mstr\u001b[39m):\n\u001b[0;32m    853\u001b[0m     \u001b[39m# Check whether the filename is to be opened in binary mode.\u001b[39;00m\n\u001b[0;32m    854\u001b[0m     \u001b[39m# Binary mode does not support 'encoding' and 'newline'.\u001b[39;00m\n\u001b[0;32m    855\u001b[0m     \u001b[39mif\u001b[39;00m ioargs\u001b[39m.\u001b[39mencoding \u001b[39mand\u001b[39;00m \u001b[39m\"\u001b[39m\u001b[39mb\u001b[39m\u001b[39m\"\u001b[39m \u001b[39mnot\u001b[39;00m \u001b[39min\u001b[39;00m ioargs\u001b[39m.\u001b[39mmode:\n\u001b[0;32m    856\u001b[0m         \u001b[39m# Encoding\u001b[39;00m\n\u001b[1;32m--> 857\u001b[0m         handle \u001b[39m=\u001b[39m \u001b[39mopen\u001b[39;49m(\n\u001b[0;32m    858\u001b[0m             handle,\n\u001b[0;32m    859\u001b[0m             ioargs\u001b[39m.\u001b[39;49mmode,\n\u001b[0;32m    860\u001b[0m             encoding\u001b[39m=\u001b[39;49mioargs\u001b[39m.\u001b[39;49mencoding,\n\u001b[0;32m    861\u001b[0m             errors\u001b[39m=\u001b[39;49merrors,\n\u001b[0;32m    862\u001b[0m             newline\u001b[39m=\u001b[39;49m\u001b[39m\"\u001b[39;49m\u001b[39m\"\u001b[39;49m,\n\u001b[0;32m    863\u001b[0m         )\n\u001b[0;32m    864\u001b[0m     \u001b[39melse\u001b[39;00m:\n\u001b[0;32m    865\u001b[0m         \u001b[39m# Binary mode\u001b[39;00m\n\u001b[0;32m    866\u001b[0m         handle \u001b[39m=\u001b[39m \u001b[39mopen\u001b[39m(handle, ioargs\u001b[39m.\u001b[39mmode)\n",
      "\u001b[1;31mFileNotFoundError\u001b[0m: [Errno 2] No such file or directory: '/home/syb/Code/coupling/python/file/gene/246_ROI/SDI_NC/geneexpression_xscore_0.csv'"
     ]
    }
   ],
   "source": [
    "#读取svg_NC_SDI 和score值\n",
    "\n",
    "df_score0 = pd.read_csv('/home/syb/Code/coupling/python/file/gene/246_ROI/SDI_NC/geneexpression_xscore_0.csv',index_col= 0,header = 0) \n",
    "df_score1 = pd.read_csv('/home/syb/Code/coupling/python/file/gene/246_ROI/SDI_NC/geneexpression_xscore_1.csv',index_col= 0,header = 0) \n",
    "df_score2 = pd.read_csv('/home/syb/Code/coupling/python/file/gene/246_ROI/SDI_NC/geneexpression_xscore_2.csv',index_col= 0,header = 0) \n",
    "df_score = pd.concat([df_score0,df_score1,df_score2])\n",
    "df_SDI_nc = pd.read_csv('/home/syb/Code/coupling/matlab/file/sub/surface/SDI/SDI_avg_nc.csv',header=None)\n"
   ]
  },
  {
   "cell_type": "code",
   "execution_count": null,
   "metadata": {},
   "outputs": [],
   "source": [
    "#读取NC_AD和score值\n",
    "df_score0 = pd.read_csv('/home/syb/Code/coupling/python/file/gene/210_ROI/SDI_dif/NC_AD_50/expression_xscore_0.csv',index_col= 0,header = 0) \n",
    "df_score1 = pd.read_csv('/home/syb/Code/coupling/python/file/gene/210_ROI/SDI_dif/NC_AD_50/expression_xscore_1.csv',index_col= 0,header = 0) \n",
    "df_score2 = pd.read_csv('/home/syb/Code/coupling/python/file/gene/210_ROI/SDI_dif/NC_AD_50/expression_xscore_2.csv',index_col= 0,header = 0) \n",
    "df_score = pd.concat([df_score0,df_score1,df_score2])\n",
    "df_SDI_nc = pd.read_csv('/home/syb/Code/coupling/matlab/file/sub/surface/SDI_diffirence/SDI_dif_NC_AD.csv',header=None)\n"
   ]
  },
  {
   "cell_type": "code",
   "execution_count": null,
   "metadata": {},
   "outputs": [],
   "source": [
    "\n",
    "\n",
    "#读取NC_AD和score值\n",
    "df_score0 = pd.read_csv('/home/syb/Code/coupling/python/file/gene/210_ROI/SDI_dif/NC_AD_50/expression_xscore_0.csv',index_col= 0,header = 0) \n",
    "df_score1 = pd.read_csv('/home/syb/Code/coupling/python/file/gene/210_ROI/SDI_dif/NC_AD_50/expression_xscore_1.csv',index_col= 0,header = 0) \n",
    "df_score2 = pd.read_csv('/home/syb/Code/coupling/python/file/gene/210_ROI/SDI_dif1/MC_AD_100/expression_xscore_NUM.csv',index_col= 0,header = 0) \n",
    "df_score = pd.concat([df_score0,df_score1,df_score2])\n",
    "df_SDI_nc = pd.read_csv('/home/syb/Code/coupling/matlab/file/sub/surface/SDI_diffirence/SDI_dif_NC_AD.csv',header=None)\n"
   ]
  },
  {
   "cell_type": "code",
   "execution_count": null,
   "metadata": {},
   "outputs": [],
   "source": [
    "np_score = np.array(df_score.values)\n",
    "np_SDI_nc = df_SDI_nc.values\n",
    "score_SDI = np.append(np_score[[1,4,7],:],np_SDI_nc[:,np.int0(np_score[0])],axis = 0).transpose()\n",
    "df_plot = pd.DataFrame(score_SDI,columns=['score_FA','score_MD','score_NUM','FA','MD','NUM'])\n"
   ]
  },
  {
   "cell_type": "code",
   "execution_count": 39,
   "metadata": {},
   "outputs": [],
   "source": [
    "MetaT = pd.read_csv(r'F:\\Code\\coupling\\matlab\\file\\R2SN_coupling\\meta_t_NC_AD_fn.csv', header=None)\n",
    "MetaT.columns = ['metaT']\n",
    "np_SDI_nc = MetaT.values\n",
    "pls1 = pd.read_csv(r'F:\\Code\\coupling\\python\\R2SNcoupling\\Gene\\NC_AD_10\\expression_xscore_r2snPlus and fn.csv',index_col= 0,header = 0)\n",
    "\n",
    "pls = pls1.values\n",
    "\n",
    "\n",
    "a =pls[1,:]\n",
    "b = np_SDI_nc[np.int0(pls[0,:])]\n",
    "c= np.append(b,a.reshape([238,1]),axis = 1)\n",
    "\n",
    "df_plot = pd.DataFrame(c,columns=['T','score'])\n"
   ]
  },
  {
   "cell_type": "code",
   "execution_count": 46,
   "metadata": {},
   "outputs": [
    {
     "data": {
      "image/png": "[encoded data removed]",
      "text/plain": [
       "<Figure size 350x300 with 1 Axes>"
      ]
     },
     "metadata": {},
     "output_type": "display_data"
    },
    {
     "name": "stdout",
     "output_type": "stream",
     "text": [
      "0.4179354435902981     1.769044361445059e-11\n"
     ]
    }
   ],
   "source": [
    "\n",
    "\n",
    "\n",
    "fig, ax = plt.subplots(figsize=(3.5, 3))\n",
    "\n",
    "#sns.regplot(data=df_plot, x=\"score_FA\", y=\"FA\")\n",
    "\n",
    "sns.regplot(data=df_plot, x=\"score\", y=\"T\",\n",
    "    line_kws={\"linewidth\": 2.5},\n",
    "    # color=\"black\",\n",
    "    scatter=True,\n",
    "    scatter_kws={\n",
    "        \"s\": 6,\n",
    "        \"alpha\": 0.8,\n",
    "    },\n",
    "    color= \"black\",\n",
    ")\n",
    "\n",
    "#sns.regplot(data=df_plot, x=\"score_NUM\", y=\"NUM\")\n",
    "\n",
    "#plt.xlim([-2, 32])\n",
    "# plt.ylim([-0.1,1.1])\n",
    "\n",
    "x_major_locator = MultipleLocator(0.1)\n",
    "# 把x轴的刻度间隔设置为1，并存在变量里\n",
    "y_major_locator = MultipleLocator(3)\n",
    "ax.xaxis.set_major_locator(x_major_locator)\n",
    "# 把x轴的主刻度设置为1的倍数\n",
    "ax.yaxis.set_major_locator(y_major_locator)\n",
    "\n",
    "# plt.title(modelName+', r= '+ str(rp[0]) +', p = '+ str(rp[1]))\n",
    "#设置坐标轴 刻度\n",
    "plt.tick_params(labelsize=15, pad=2, length=4, width=1)\n",
    "\n",
    "ax.set_xlabel(None)\n",
    "ax.set_ylabel(None)\n",
    "ax.spines[\"top\"].set_linewidth(1)\n",
    "ax.spines[\"bottom\"].set_linewidth(1)\n",
    "ax.spines[\"left\"].set_linewidth(1)\n",
    "ax.spines[\"right\"].set_linewidth(1)\n",
    "plt.show()\n",
    "\n",
    "(r,p ) = pearsonr(df_plot['T'].values, df_plot['score'].values)\n",
    "print(r, '   ',p)\n",
    "\n"
   ]
  },
  {
   "cell_type": "code",
   "execution_count": 7,
   "metadata": {},
   "outputs": [],
   "source": [
    "def yf_sns_context(fontsize):\n",
    "\n",
    "    conText={\n",
    "    'axes.linewidth': 0.75, #坐标轴线宽为0.75\n",
    "    'grid.linewidth': 0.75, #网格线宽为0.75\n",
    "    'lines.linewidth': 1.0, #绘图线宽1.0\n",
    "    'lines.markersize': 3.0, #散点的大小3.0\n",
    "    'patch.linewidth': 1.0, #路径线宽1.0\n",
    "    'xtick.major.width': 0.75, #下面这是主副刻度线的宽度\n",
    "    'ytick.major.width': 0.75,\n",
    "    'xtick.minor.width': 0.75,\n",
    "    'ytick.minor.width': 0.75,\n",
    "    'xtick.major.size': 2,\n",
    "    'ytick.major.size': 2,\n",
    "    'xtick.minor.size': 1.2,\n",
    "    'ytick.minor.size': 1.2,\n",
    "    'font.size': 7.5,#字号\n",
    "    'axes.labelsize': fontsize,#xy坐标轴的字号\n",
    "    'axes.titlesize': fontsize,\n",
    "    'xtick.labelsize': fontsize,\n",
    "    'ytick.labelsize': fontsize,\n",
    "    'legend.fontsize': fontsize,\n",
    "    'legend.title_fontsize': fontsize\n",
    "    }\n",
    "    return conText"
   ]
  },
  {
   "cell_type": "code",
   "execution_count": null,
   "metadata": {},
   "outputs": [],
   "source": []
  },
  {
   "cell_type": "code",
   "execution_count": null,
   "metadata": {},
   "outputs": [],
   "source": []
  }
 ],
 "metadata": {
  "kernelspec": {
   "display_name": "coupling",
   "language": "python",
   "name": "python3"
  },
  "language_info": {
   "codemirror_mode": {
    "name": "ipython",
    "version": 3
   },
   "file_extension": ".py",
   "mimetype": "text/x-python",
   "name": "python",
   "nbconvert_exporter": "python",
   "pygments_lexer": "ipython3",
   "version": "3.8.0"
  },
  "orig_nbformat": 4
 },
 "nbformat": 4,
 "nbformat_minor": 2
}
