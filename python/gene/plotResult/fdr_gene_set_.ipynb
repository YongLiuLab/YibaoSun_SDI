{
 "cells": [
  {
   "cell_type": "code",
   "execution_count": 1,
   "metadata": {},
   "outputs": [],
   "source": [
    "import numpy as np\n",
    "import pandas as pd\n",
    "import seaborn as sns\n",
    "import matplotlib.pyplot as plt\n",
    "from matplotlib.pyplot import MultipleLocator\n",
    "from PIL import Image"
   ]
  },
  {
   "cell_type": "code",
   "execution_count": 47,
   "metadata": {},
   "outputs": [
    {
     "name": "stdout",
     "output_type": "stream",
     "text": [
      "0                 NADH dehydrogenase complex assembly\n",
      "1    mitochondrial respiratory chain complex assembly\n",
      "2                       mitochondrial gene expression\n",
      "3      generation of precursor metabolites and energy\n",
      "4           nucleoside triphosphate metabolic process\n",
      "5          nucleoside monophosphate metabolic process\n",
      "Name: description, dtype: object\n"
     ]
    },
    {
     "name": "stderr",
     "output_type": "stream",
     "text": [
      "C:\\Users\\SUN\\AppData\\Local\\Temp\\ipykernel_30432\\1990675946.py:5: RuntimeWarning: divide by zero encountered in log10\n",
      "  a = -np.log10(fdrP)\n"
     ]
    }
   ],
   "source": [
    "\n",
    "\n",
    "re = pd.read_csv(r'F:\\Code\\coupling\\python\\file\\gene\\enrich_result\\Project_wg_result1680578320\\enrichment_results_wg_result1680578320.txt',delimiter='\\t')\n",
    "\n",
    "fdrP = re['FDR'].values\n",
    "\n",
    "a = -np.log10(fdrP)\n",
    "a[0] = 4\n",
    "re.insert(loc=0,column='log10P',value=a)\n",
    "\n",
    "print(re[\"description\"])"
   ]
  },
  {
   "cell_type": "code",
   "execution_count": 3,
   "metadata": {},
   "outputs": [
    {
     "name": "stdout",
     "output_type": "stream",
     "text": [
      "(1232, 60, 3)\n"
     ]
    },
    {
     "data": {
      "text/plain": [
       "array([[0.80000001, 0.92156863, 0.77254903],\n",
       "       [0.73725492, 0.50196081, 0.74117649],\n",
       "       [0.8509804 , 0.8509804 , 0.8509804 ],\n",
       "       [0.98823529, 0.80392158, 0.89803922],\n",
       "       [0.7019608 , 0.87058824, 0.41176471],\n",
       "       [0.99215686, 0.70588237, 0.38431373],\n",
       "       [0.50196081, 0.69411767, 0.82745099],\n",
       "       [0.98431373, 0.50196081, 0.44705883],\n",
       "       [0.74509805, 0.72941178, 0.85490197],\n",
       "       [1.        , 1.        , 0.7019608 ],\n",
       "       [0.5529412 , 0.82745099, 0.78039217],\n",
       "       [0.60000002, 0.60000002, 0.60000002],\n",
       "       [0.96862745, 0.50588238, 0.74901962],\n",
       "       [0.65098041, 0.33725491, 0.15686275],\n",
       "       [1.        , 1.        , 0.2       ],\n",
       "       [1.        , 0.49803922, 0.        ],\n",
       "       [0.59607846, 0.30588236, 0.63921571],\n",
       "       [0.3019608 , 0.68627453, 0.29019609],\n",
       "       [0.21568628, 0.49411765, 0.72156864],\n",
       "       [0.89411765, 0.10196079, 0.10980392]])"
      ]
     },
     "execution_count": 3,
     "metadata": {},
     "output_type": "execute_result"
    }
   ],
   "source": [
    "def get_color():\n",
    "    a=1\n",
    "\n",
    "\n",
    "img = Image.open(r'D:\\User\\Desktop\\SDI 耦合结果\\meatspace_NC-AD-FA-246\\colormap.png')\n",
    "#a = img[25,25,:]\n",
    "out = img.convert(\"RGB\")\n",
    "out1 = np.array(out)\n",
    "print(out1.shape)\n",
    "color = []\n",
    "colorNum = np.zeros([20,3])\n",
    "\n",
    "out2 = plt.imread(r'D:\\User\\Desktop\\SDI 耦合结果\\meatspace_NC-AD-FA-246\\colormap.png')\n",
    "\n",
    "for i in range(20):\n",
    "\n",
    "    a = out1[int((0.5+i)/20 *1200),25,:]\n",
    "    str1 = '#' + hex(a[0])[2:] +hex(a[1])[2:] + hex(a[2])[2:]\n",
    "    color.append(str1)\n",
    "    colorNum[19-i,:] = out2[int((0.5+i)/20 *1232),25,0:3]\n",
    "\n",
    "\n",
    "color\n",
    "colorNum\n",
    "\n",
    "\n",
    "\n",
    "\n",
    "\n",
    "    \n",
    "\n"
   ]
  },
  {
   "cell_type": "code",
   "execution_count": 6,
   "metadata": {},
   "outputs": [
    {
     "data": {
      "image/png": "[encoded data removed]",
      "text/plain": [
       "<Figure size 300x300 with 1 Axes>"
      ]
     },
     "metadata": {},
     "output_type": "display_data"
    }
   ],
   "source": [
    "\n",
    "\n",
    "re_metascape = pd.read_csv(r'D:\\User\\Desktop\\R2SN-SC-coupling\\NC_AD-R2SN-FN-500\\result.csv')\n",
    "#re_metascape = pd.read_csv(r'D:\\User\\Desktop\\meatspace_NC-AD-FA-246\\result-main1.csv')\n",
    "\n",
    "\n",
    "\n",
    "re_metascape['Log10(q)'] = -re_metascape['Log10(q)']\n",
    "re_metascape.sort_values(by='Log10(q)',inplace=True)\n",
    "\n",
    "\n",
    "\n",
    "plotIndex = (re_metascape['plot'].values >0)\n",
    "\n",
    "\n",
    "colorNum1 = colorNum[plotIndex]\n",
    "re_metascape = re_metascape[re_metascape['plot' ] >0]\n",
    "\n",
    "\n",
    "\n",
    "#Log10(q), \n",
    "fig, ax = plt.subplots(figsize=(3, 3))\n",
    "\n",
    "tips = sns.load_dataset(\"tips\",data_home='F:\\Data Users\\seaborn-data-master')\\\n",
    "#,size=re['size'].values\n",
    "\n",
    "\n",
    "\n",
    "\n",
    "plt.scatter(x = re_metascape['Log10(q)'].values,y= re_metascape[\"Description\"].values,\n",
    "            s=re_metascape['Count'].values *6,c= colorNum1)\n",
    "#sns.scatterplot(data=re_metascape, x=\"Log10(q)\", y=\"Description\",size='Count')\n",
    "plt.xlim([5,13])\n",
    "# plt.ylim([-0.1,1.1])\n",
    "\n",
    "x_major_locator = MultipleLocator(2)\n",
    "# 把x轴的刻度间隔设置为1，并存在变量里\n",
    "\n",
    "ax.xaxis.set_major_locator(x_major_locator)\n",
    "ax.axes.xaxis.set_ticklabels([])\n",
    "ax.axes.yaxis.set_ticklabels([])\n",
    "ax.tick_params(right=True,left=False)\n",
    "plt.xlabel(\"\")\n",
    "plt.ylabel(\"\")\n",
    "plt.savefig(r'F:\\Code\\coupling\\python\\file\\gene\\fig\\out3.png')"
   ]
  },
  {
   "cell_type": "code",
   "execution_count": 54,
   "metadata": {},
   "outputs": [
    {
     "data": {
      "image/png": "[encoded data removed]",
      "text/plain": [
       "<Figure size 300x600 with 1 Axes>"
      ]
     },
     "metadata": {},
     "output_type": "display_data"
    }
   ],
   "source": [
    "fig, ax = plt.subplots(figsize=(3, 6))\n",
    "\n",
    "tips = sns.load_dataset(\"tips\",data_home='F:\\Data Users\\seaborn-data-master')\\\n",
    "#,size=re['size'].values\n",
    "sns.scatterplot(data=re, x=\"log10P\", y=\"description\",size='size',sizes=(50,800))\n",
    "plt.xlim([0.5,4.5])\n",
    "# plt.ylim([-0.1,1.1])\n",
    "\n",
    "x_major_locator = MultipleLocator(1)\n",
    "# 把x轴的刻度间隔设置为1，并存在变量里\n",
    "\n",
    "ax.xaxis.set_major_locator(x_major_locator)\n",
    "ax.axes.xaxis.set_ticklabels([])\n",
    "ax.axes.yaxis.set_ticklabels([])\n",
    "plt.xlabel(\"\")\n",
    "plt.ylabel(\"\")\n",
    "plt.savefig(r'F:\\Code\\coupling\\python\\file\\gene\\fig\\out1.png')\n",
    "\n",
    "\n"
   ]
  },
  {
   "cell_type": "code",
   "execution_count": 29,
   "metadata": {},
   "outputs": [],
   "source": [
    "\n",
    "re_metascape = pd.read_csv(r'F:\\Code\\coupling\\python\\file\\gene\\enrich_result\\meatspace_NC-AD-FA-246-1267\\result-metascape.csv')\n",
    "\n",
    "for index,row in re_metascape.iterrows():\n",
    "    re_metascape.loc[index,'q_1.x'] = pow(10, row['Log10(q)'])\n",
    "    re_metascape.loc[index,'p_1.x'] = pow(10, row['Log10(P)'])\n",
    "\n",
    "re_metascape\n",
    "re_metascape.to_csv(r'F:\\Code\\coupling\\python\\file\\gene\\enrich_result\\meatspace_NC-AD-FA-246-1267\\result-metascape1.csv')\n"
   ]
  }
 ],
 "metadata": {
  "kernelspec": {
   "display_name": "coupling",
   "language": "python",
   "name": "python3"
  },
  "language_info": {
   "codemirror_mode": {
    "name": "ipython",
    "version": 3
   },
   "file_extension": ".py",
   "mimetype": "text/x-python",
   "name": "python",
   "nbconvert_exporter": "python",
   "pygments_lexer": "ipython3",
   "version": "3.8.0"
  },
  "orig_nbformat": 4
 },
 "nbformat": 4,
 "nbformat_minor": 2
}
